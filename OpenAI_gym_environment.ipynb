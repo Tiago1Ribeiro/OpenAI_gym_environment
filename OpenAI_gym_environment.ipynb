{
  "nbformat": 4,
  "nbformat_minor": 0,
  "metadata": {
    "colab": {
      "name": "OpenAI_gym_environment.ipynb",
      "version": "0.3.2",
      "provenance": [],
      "include_colab_link": true
    },
    "kernelspec": {
      "name": "python3",
      "display_name": "Python 3"
    },
    "accelerator": "GPU"
  },
  "cells": [
    {
      "cell_type": "markdown",
      "metadata": {
        "id": "view-in-github",
        "colab_type": "text"
      },
      "source": [
        "<a href=\"https://colab.research.google.com/github/Tiago1Ribeiro/OpenAI_gym_environment/blob/master/OpenAI_gym_environment.ipynb\" target=\"_parent\"><img src=\"https://colab.research.google.com/assets/colab-badge.svg\" alt=\"Open In Colab\"/></a>"
      ]
    },
    {
      "metadata": {
        "id": "uwk8zVBMxI-r",
        "colab_type": "text"
      },
      "cell_type": "markdown",
      "source": [
        "###Testing Gym (OpenAI): https://gym.openai.com/docs/"
      ]
    },
    {
      "metadata": {
        "id": "7TPxcPdOKk0k",
        "colab_type": "text"
      },
      "cell_type": "markdown",
      "source": [
        "####Install dependencies"
      ]
    },
    {
      "metadata": {
        "id": "Zfb8Te7UCMPb",
        "colab_type": "code",
        "colab": {
          "base_uri": "https://localhost:8080/",
          "height": 360
        },
        "outputId": "69268135-a351-4de8-db56-a708b969489f"
      },
      "cell_type": "code",
      "source": [
        "!apt install python-opengl\n",
        "!apt install ffmpeg\n",
        "!apt install xvfb\n",
        "!pip install xvfbwrapper\n",
        "!pip3 install pyvirtualdisplay"
      ],
      "execution_count": 4,
      "outputs": [
        {
          "output_type": "stream",
          "text": [
            "Reading package lists... Done\n",
            "Building dependency tree       \n",
            "Reading state information... Done\n",
            "python-opengl is already the newest version (3.1.0+dfsg-1).\n",
            "0 upgraded, 0 newly installed, 0 to remove and 4 not upgraded.\n",
            "Reading package lists... Done\n",
            "Building dependency tree       \n",
            "Reading state information... Done\n",
            "ffmpeg is already the newest version (7:3.4.4-0ubuntu0.18.04.1).\n",
            "0 upgraded, 0 newly installed, 0 to remove and 4 not upgraded.\n",
            "Reading package lists... Done\n",
            "Building dependency tree       \n",
            "Reading state information... Done\n",
            "xvfb is already the newest version (2:1.19.6-1ubuntu4.2).\n",
            "0 upgraded, 0 newly installed, 0 to remove and 4 not upgraded.\n",
            "Requirement already satisfied: xvfbwrapper in /usr/local/lib/python3.6/dist-packages (0.2.9)\n",
            "Requirement already satisfied: pyvirtualdisplay in /usr/local/lib/python3.6/dist-packages (0.2.1)\n",
            "Requirement already satisfied: EasyProcess in /usr/local/lib/python3.6/dist-packages (from pyvirtualdisplay) (0.2.5)\n"
          ],
          "name": "stdout"
        },
        {
          "output_type": "execute_result",
          "data": {
            "text/plain": [
              "<Display cmd_param=['Xvfb', '-br', '-nolisten', 'tcp', '-screen', '0', '1400x900x24', ':1756589374'] cmd=['Xvfb', '-br', '-nolisten', 'tcp', '-screen', '0', '1400x900x24', ':1756589374'] oserror=None return_code=None stdout=\"None\" stderr=\"None\" timeout_happened=False>"
            ]
          },
          "metadata": {
            "tags": []
          },
          "execution_count": 4
        }
      ]
    },
    {
      "metadata": {
        "id": "is81wQZVKfTL",
        "colab_type": "text"
      },
      "cell_type": "markdown",
      "source": [
        "####Import libraries"
      ]
    },
    {
      "metadata": {
        "id": "7OuevKj2w760",
        "colab_type": "code",
        "colab": {}
      },
      "cell_type": "code",
      "source": [
        "import numpy as np\n",
        "import time\n",
        "import pyglet\n",
        "import gym\n",
        "import PIL.Image\n",
        "import io    "
      ],
      "execution_count": 0,
      "outputs": []
    },
    {
      "metadata": {
        "id": "j8U-trmDLgtb",
        "colab_type": "text"
      },
      "cell_type": "markdown",
      "source": [
        "####Virtual Display to [Colab](https://colab.research.google.com)"
      ]
    },
    {
      "metadata": {
        "id": "UhAQC6RfHyc4",
        "colab_type": "code",
        "colab": {
          "base_uri": "https://localhost:8080/",
          "height": 371
        },
        "outputId": "92028eb8-dd21-4953-cb69-b685889ed8ac"
      },
      "cell_type": "code",
      "source": [
        "# Virtual display (Colab.google)\n",
        "from pyvirtualdisplay import Display\n",
        "from IPython import display\n",
        "from xvfbwrapper import Xvfb\n",
        "\n",
        "virtual_display = Display(visible=0, size=(1400, 900))\n",
        "virtual_display.start()\n",
        "vdisplay = Xvfb(width=1280, height=740)\n",
        "vdisplay.start()\n",
        "\n",
        "env = gym.make('CartPole-v0')\n",
        "env.reset()\n",
        "\n",
        "def showarray(a, fmt='png'):\n",
        "    a = np.uint8(a)\n",
        "    f = io.BytesIO()\n",
        "    ima = PIL.Image.fromarray(a).save(f, fmt)\n",
        "    return f.getvalue()\n",
        "imagehandle = display.display(display.Image(data=showarray(env.render(mode='rgb_array')), width=450), display_id='gymscr')\n",
        "\n",
        "\n",
        "for _ in range(1000):\n",
        "  time.sleep(0.01)\n",
        "  observation, reward, done, info = env.step(env.action_space.sample()) # take a random action\n",
        "  display.update_display(display.Image(data=showarray(env.render(mode='rgb_array')), width=450), display_id='gymscr')\n",
        "  \n",
        "vdisplay.stop()"
      ],
      "execution_count": 6,
      "outputs": [
        {
          "output_type": "display_data",
          "data": {
            "image/png": "[encoded data removed]",
            "text/plain": [
              "<IPython.core.display.Image object>"
            ]
          },
          "metadata": {
            "tags": [],
            "image/png": {
              "width": 450
            }
          }
        },
        {
          "output_type": "stream",
          "text": [
            "/usr/local/lib/python3.6/dist-packages/gym/logger.py:30: UserWarning: \u001b[33mWARN: You are calling 'step()' even though this environment has already returned done = True. You should always call 'reset()' once you receive 'done = True' -- any further steps are undefined behavior.\u001b[0m\n",
            "  warnings.warn(colorize('%s: %s'%('WARN', msg % args), 'yellow'))\n"
          ],
          "name": "stderr"
        }
      ]
    }
  ]
}